{
 "cells": [
  {
   "cell_type": "markdown",
   "metadata": {},
   "source": [
    "# Boston House Prices Dataset"
   ]
  },
  {
   "cell_type": "code",
   "execution_count": 87,
   "metadata": {},
   "outputs": [
    {
     "name": "stdout",
     "output_type": "stream",
     "text": [
      "(506, 13)\n",
      "(506,)\n",
      "(506, 13)\n",
      "(506,)\n"
     ]
    }
   ],
   "source": [
    "from sklearn.datasets import load_boston\n",
    "import numpy as np\n",
    "import numpy.linalg as la\n",
    "samples, targets = load_boston(return_X_y=True)\n",
    "print (samples.shape)\n",
    "print (targets.shape)\n",
    "\n",
    "R = np.column_stack((samples,targets))\n",
    "#np.random.shuffle(R)\n",
    "samples = R[:,:-1]; targets = R[:,-1]\n",
    "labels = targets\n",
    "print (samples.shape)\n",
    "print (targets.shape)"
   ]
  },
  {
   "cell_type": "markdown",
   "metadata": {},
   "source": [
    "# Least Squares"
   ]
  },
  {
   "cell_type": "code",
   "execution_count": 116,
   "metadata": {},
   "outputs": [
    {
     "name": "stdout",
     "output_type": "stream",
     "text": [
      "(506, 14)\n",
      "what is: \n",
      " [[-1.08011358e-01]\n",
      " [ 4.64204584e-02]\n",
      " [ 2.05586264e-02]\n",
      " [ 2.68673382e+00]\n",
      " [-1.77666112e+01]\n",
      " [ 3.80986521e+00]\n",
      " [ 6.92224640e-04]\n",
      " [-1.47556685e+00]\n",
      " [ 3.06049479e-01]\n",
      " [-1.23345939e-02]\n",
      " [-9.52747232e-01]\n",
      " [ 9.31168327e-03]\n",
      " [-5.24758378e-01]\n",
      " [ 3.64594884e+01]]\n",
      "Least Squares Error:  105.25580543587596\n"
     ]
    }
   ],
   "source": [
    "X = samples\n",
    "t = targets.reshape(506,1)\n",
    "ones = np.ones((506,1))\n",
    "X = np.column_stack((samples,ones))\n",
    "print(X.shape)\n",
    "what = la.inv(X.transpose().dot(X)).dot(X.transpose()).dot(t)\n",
    "y_hat = X.dot(what)\n",
    "error = la.norm(t - y_hat)\n",
    "print(\"what is: \\n\",what)\n",
    "#w1 = what[0:-1]; b = what[-1]\n",
    "#print(w1,b)\n",
    "print(\"Least Squares Error: \", error)"
   ]
  },
  {
   "cell_type": "markdown",
   "metadata": {},
   "source": [
    "# K-fold Cross Validation"
   ]
  },
  {
   "cell_type": "code",
   "execution_count": 89,
   "metadata": {},
   "outputs": [],
   "source": [
    "def LeastSquares(train,train_target,test):\n",
    "    X = train\n",
    "    t = train_target\n",
    "    #t = train_target.reshape(len(train_target),1)\n",
    "    #print(X.shape)\n",
    "    what = la.inv(X.transpose().dot(X)).dot(X.transpose()).dot(t)\n",
    "    y_hat = X.dot(what)\n",
    "    lserror = la.norm(t - y_hat)\n",
    "    \n",
    "    y_pred = test.dot(what)\n",
    "    return what, lserror, y_pred"
   ]
  },
  {
   "cell_type": "code",
   "execution_count": 96,
   "metadata": {},
   "outputs": [],
   "source": [
    "def KFCV():\n",
    "    test1 = X[0:101]; train1 = X[101:]; \n",
    "    test1_t = t[0:101]; train1_t = t[101:]\n",
    "\n",
    "    test2 = X[101:202]; train2 = np.vstack((X[0:101],X[202:])) \n",
    "    test2_t = t[101:202]; train2_t = np.vstack((t[0:101],t[202:]))\n",
    "\n",
    "    test3 = X[202:303]; train3 = np.vstack((X[0:202],X[303:])) ; \n",
    "    test3_t = t[202:303]; train3_t = np.vstack((t[0:202],t[303:])) ; \n",
    "\n",
    "    test4 = X[303:404]; train4 = np.vstack((X[0:303],X[404:])); \n",
    "    test4_t = t[303:404]; train4_t = np.vstack((t[0:303],t[404:]));\n",
    "\n",
    "    test5 = X[404:]; train5 = X[0:404]; \n",
    "    test5_t = t[404:]; train5_t = t[0:404]\n",
    "    \n",
    "    what1, e1, ypred1 = LeastSquares(train1,train1_t,test1)\n",
    "    what2, e2, ypred2 = LeastSquares(train2,train2_t,test2)\n",
    "    what3, e3, ypred3 = LeastSquares(train3,train3_t,test3)\n",
    "    what4, e4, ypred4 = LeastSquares(train4,train4_t,test4)\n",
    "    what5, e5, ypred5 = LeastSquares(train5,train5_t,test5)\n",
    "\n",
    "    error1 = la.norm(ypred1 - test1_t)\n",
    "    print(\"error1: \",error1)\n",
    "    error2 = la.norm(ypred2 - test2_t)\n",
    "    print(\"error2: \",error2)\n",
    "    error3 = la.norm(ypred3 - test3_t)\n",
    "    print(\"error3: \",error3)\n",
    "    error4 = la.norm(ypred4 - test4_t)\n",
    "    print(\"error4: \",error4)\n",
    "    error5 = la.norm(ypred5 - test5_t)\n",
    "    print(\"error5: \",error5)\n",
    "    avg_error = (error1+error2+error3+error4+error5)/5\n",
    "    print(\"Average Prediction Error is: \",avg_error)\n",
    "    return avg_error\n"
   ]
  },
  {
   "cell_type": "code",
   "execution_count": 97,
   "metadata": {},
   "outputs": [
    {
     "name": "stdout",
     "output_type": "stream",
     "text": [
      "error1:  35.6376743976011\n",
      "error2:  51.056633074290204\n",
      "error3:  58.46146915379775\n",
      "error4:  89.97315644929394\n",
      "error5:  57.841040735620545\n",
      "Average Prediction Error is:  58.5939947621207\n"
     ]
    },
    {
     "data": {
      "text/plain": [
       "58.5939947621207"
      ]
     },
     "execution_count": 97,
     "metadata": {},
     "output_type": "execute_result"
    }
   ],
   "source": [
    "KFCV()"
   ]
  },
  {
   "cell_type": "code",
   "execution_count": 95,
   "metadata": {},
   "outputs": [
    {
     "data": {
      "image/png": "[encoded data removed]",
      "text/plain": [
       "<Figure size 576x432 with 1 Axes>"
      ]
     },
     "metadata": {
      "needs_background": "light"
     },
     "output_type": "display_data"
    }
   ],
   "source": [
    "%matplotlib inline\n",
    "import matplotlib.pyplot as plt\n",
    "\n",
    "#best fold is k = 1\n",
    "\n",
    "fig = plt.figure(figsize=(8,6))\n",
    "ax = fig.add_subplot(111)\n",
    "ax.plot(test1_t,test1_t,c='r')\n",
    "ax.scatter(test1_t,ypred1,c='g',marker='s')\n",
    "\n",
    "ax.set_title(\"Measured vs Predicted Target Values\")\n",
    "ax.set_xlabel('Measured')\n",
    "ax.set_ylabel('Predicted')\n",
    "\n",
    "plt.show()"
   ]
  },
  {
   "cell_type": "markdown",
   "metadata": {},
   "source": [
    "# Ridge Regression"
   ]
  },
  {
   "cell_type": "markdown",
   "metadata": {},
   "source": [
    "Ridge Regression solves for $\\hat{w}$ in the following form: $\\hat{w} = (X^TX+\\lambda I)^{-1} X^Ty$"
   ]
  },
  {
   "cell_type": "code",
   "execution_count": 106,
   "metadata": {},
   "outputs": [],
   "source": [
    "def LeastSquares_RR(train,train_target,test,l):\n",
    "    X = train\n",
    "    #print(X.shape)\n",
    "    t = train_target\n",
    "    I = np.identity(X.shape[1])\n",
    "    #t = train_target.reshape(len(train_target),1)\n",
    "    #print(X.shape)\n",
    "    what = la.inv(X.transpose().dot(X)+l*I).dot(X.transpose()).dot(t)\n",
    "    y_hat = X.dot(what)\n",
    "    lserror = la.norm(t - y_hat)\n",
    "    \n",
    "    y_pred = test.dot(what)\n",
    "    return what, lserror, y_pred"
   ]
  },
  {
   "cell_type": "code",
   "execution_count": 99,
   "metadata": {},
   "outputs": [],
   "source": [
    "def KFCV_RR(l):\n",
    "    test1 = X[0:101]; train1 = X[101:]; \n",
    "    test1_t = t[0:101]; train1_t = t[101:]\n",
    "\n",
    "    test2 = X[101:202]; train2 = np.vstack((X[0:101],X[202:])) \n",
    "    test2_t = t[101:202]; train2_t = np.vstack((t[0:101],t[202:]))\n",
    "\n",
    "    test3 = X[202:303]; train3 = np.vstack((X[0:202],X[303:])) ; \n",
    "    test3_t = t[202:303]; train3_t = np.vstack((t[0:202],t[303:])) ; \n",
    "\n",
    "    test4 = X[303:404]; train4 = np.vstack((X[0:303],X[404:])); \n",
    "    test4_t = t[303:404]; train4_t = np.vstack((t[0:303],t[404:]));\n",
    "\n",
    "    test5 = X[404:]; train5 = X[0:404]; \n",
    "    test5_t = t[404:]; train5_t = t[0:404]\n",
    "    \n",
    "    what1, e1, ypred1 = LeastSquares_RR(train1,train1_t,test1,l)\n",
    "    what2, e2, ypred2 = LeastSquares_RR(train2,train2_t,test2,l)\n",
    "    what3, e3, ypred3 = LeastSquares_RR(train3,train3_t,test3,l)\n",
    "    what4, e4, ypred4 = LeastSquares_RR(train4,train4_t,test4,l)\n",
    "    what5, e5, ypred5 = LeastSquares_RR(train5,train5_t,test5,l)\n",
    "\n",
    "    error1 = la.norm(ypred1 - test1_t)\n",
    "    #print(\"error1: \",error1)\n",
    "    error2 = la.norm(ypred2 - test2_t)\n",
    "    #print(\"error2: \",error2)\n",
    "    error3 = la.norm(ypred3 - test3_t)\n",
    "    #print(\"error3: \",error3)\n",
    "    error4 = la.norm(ypred4 - test4_t)\n",
    "    #print(\"error4: \",error4)\n",
    "    error5 = la.norm(ypred5 - test5_t)\n",
    "    #print(\"error5: \",error5)\n",
    "    avg_error = (error1+error2+error3+error4+error5)/5\n",
    "    #print(\"Average Prediction Error is: \",avg_error)\n",
    "    return avg_error"
   ]
  },
  {
   "cell_type": "code",
   "execution_count": 114,
   "metadata": {},
   "outputs": [
    {
     "name": "stdout",
     "output_type": "stream",
     "text": [
      "Optimal lambda is:  9.700000000000001 \n",
      "with average prediction error:  54.02405460008778\n"
     ]
    }
   ],
   "source": [
    "L = np.linspace(1,10,num=91)\n",
    "Errors = []\n",
    "for l in L:\n",
    "    Errors.append(KFCV_RR(l))\n",
    "Errors = np.asarray(Errors)\n",
    "i = np.argmin(Errors)\n",
    "lam = L[i]\n",
    "print(\"Optimal lambda is: \",lam, \"\\nwith average prediction error: \",Errors[i])"
   ]
  },
  {
   "cell_type": "code",
   "execution_count": null,
   "metadata": {},
   "outputs": [],
   "source": []
  }
 ],
 "metadata": {
  "kernelspec": {
   "display_name": "Python 3",
   "language": "python",
   "name": "python3"
  },
  "language_info": {
   "codemirror_mode": {
    "name": "ipython",
    "version": 3
   },
   "file_extension": ".py",
   "mimetype": "text/x-python",
   "name": "python",
   "nbconvert_exporter": "python",
   "pygments_lexer": "ipython3",
   "version": "3.6.5"
  }
 },
 "nbformat": 4,
 "nbformat_minor": 2
}
